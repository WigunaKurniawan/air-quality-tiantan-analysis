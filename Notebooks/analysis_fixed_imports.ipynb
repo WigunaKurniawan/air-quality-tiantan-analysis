{
 "cells": [
  {
   "cell_type": "markdown",
   "id": "430ba9bf",
   "metadata": {},
   "source": [
    "# Air Quality Data Analysis - Tiantan Station\n",
    "This notebook contains the full analysis of air quality data from Tiantan Station for the period from 2013 to 2017.\n",
    "\n",
    "We will conduct the following steps:\n",
    "- Data Loading\n",
    "- Data Cleaning and Wrangling\n",
    "- Exploratory Data Analysis (EDA)\n",
    "- Binning Analysis\n",
    "- Conclusion\n"
   ]
  },
  {
   "cell_type": "markdown",
   "id": "15163d43",
   "metadata": {},
   "source": [
    "## Step 1: Import Necessary Libraries\n",
    "We will import the necessary libraries to work with data in this project, including:\n",
    "- `pandas` for data handling.\n",
    "- `numpy` for numerical operations.\n",
    "- `matplotlib` and `seaborn` for visualization."
   ]
  },
  {
   "cell_type": "code",
   "execution_count": null,
   "id": "72af7449",
   "metadata": {},
   "outputs": [],
   "source": [
    "\n",
    "# Necessary imports\n",
    "import pandas as pd\n",
    "import numpy as np\n",
    "import matplotlib.pyplot as plt\n",
    "import seaborn as sns\n",
    "import streamlit as st\n"
   ]
  },
  {
   "cell_type": "markdown",
   "id": "239015c7",
   "metadata": {},
   "source": [
    "## Step 2: Load the Air Quality Dataset\n",
    "We will load the dataset directly from the GitHub link to perform the analysis. The dataset is already combined into a single CSV file."
   ]
  },
  {
   "cell_type": "code",
   "execution_count": null,
   "id": "d299a538",
   "metadata": {},
   "outputs": [],
   "source": [
    "\n",
    "# Load the dataset from GitHub\n",
    "data_url = 'https://raw.githubusercontent.com/WigunaKurniawan/air-quality-tiantan-analysis/main/Dataset/PRSA_Data_Tiantan_20130301-20170228.csv'\n",
    "data = pd.read_csv(data_url)\n",
    "\n",
    "# Display the first few rows to understand the structure\n",
    "data.head()\n"
   ]
  },
  {
   "cell_type": "markdown",
   "id": "f27d1e70",
   "metadata": {},
   "source": [
    "## Step 3: Data Cleaning\n",
    "We will check for missing values and handle them using the forward fill method.\n",
    "Additionally, we will create a datetime column using the year, month, day, and hour columns."
   ]
  },
  {
   "cell_type": "code",
   "execution_count": null,
   "id": "9238be7c",
   "metadata": {},
   "outputs": [],
   "source": [
    "\n",
    "# Handle missing values with forward fill\n",
    "data_cleaned = data.fillna(method='ffill')\n",
    "\n",
    "# Create datetime column for easier analysis\n",
    "data_cleaned['datetime'] = pd.to_datetime(data_cleaned[['year', 'month', 'day', 'hour']])\n",
    "data_cleaned.set_index('datetime', inplace=True)\n",
    "\n",
    "# Verify if there are still missing values\n",
    "data_cleaned.isnull().sum()\n"
   ]
  },
  {
   "cell_type": "markdown",
   "id": "733f5799",
   "metadata": {},
   "source": [
    "## Step 4: Exploratory Data Analysis (EDA)\n",
    "In this section, we will perform visualizations to explore trends in PM2.5 levels and analyze correlations between temperature and PM2.5."
   ]
  },
  {
   "cell_type": "code",
   "execution_count": null,
   "id": "9bef120d",
   "metadata": {},
   "outputs": [],
   "source": [
    "\n",
    "# Plot PM2.5 levels over time\n",
    "plt.figure(figsize=(10, 6))\n",
    "plt.plot(data_cleaned.index, data_cleaned['PM2.5'], label='PM2.5', color='blue')\n",
    "plt.title('PM2.5 Levels Over Time at Tiantan Station', fontsize=14)\n",
    "plt.xlabel('Date', fontsize=12)\n",
    "plt.ylabel('PM2.5 Concentration', fontsize=12)\n",
    "plt.grid(True)\n",
    "plt.legend()\n",
    "plt.show()\n"
   ]
  },
  {
   "cell_type": "code",
   "execution_count": null,
   "id": "3d1103c4",
   "metadata": {},
   "outputs": [],
   "source": [
    "\n",
    "# Correlation between temperature and PM2.5\n",
    "plt.figure(figsize=(8, 6))\n",
    "sns.scatterplot(x='TEMP', y='PM2.5', data=data_cleaned)\n",
    "plt.title('Correlation between Temperature and PM2.5 Levels', fontsize=14)\n",
    "plt.xlabel('Temperature (°C)', fontsize=12)\n",
    "plt.ylabel('PM2.5 Concentration', fontsize=12)\n",
    "plt.grid(True)\n",
    "plt.show()\n"
   ]
  },
  {
   "cell_type": "markdown",
   "id": "4026c609",
   "metadata": {},
   "source": [
    "## Step 5: Binning Analysis for PM2.5 Levels\n",
    "We will classify PM2.5 levels into categories such as 'Low', 'Moderate', 'High', and 'Very High'."
   ]
  },
  {
   "cell_type": "code",
   "execution_count": null,
   "id": "6b78ad4b",
   "metadata": {},
   "outputs": [],
   "source": [
    "\n",
    "# Binning PM2.5 levels into categories\n",
    "def categorize_pm25(value):\n",
    "    if value < 35:\n",
    "        return 'Low'\n",
    "    elif 35 <= value < 75:\n",
    "        return 'Moderate'\n",
    "    elif 75 <= value < 150:\n",
    "        return 'High'\n",
    "    else:\n",
    "        return 'Very High'\n",
    "\n",
    "# Apply the binning function to the 'PM2.5' column\n",
    "data_cleaned['PM2.5_category'] = data_cleaned['PM2.5'].apply(categorize_pm25)\n",
    "\n",
    "# Check the distribution of categories\n",
    "category_counts = data_cleaned['PM2.5_category'].value_counts()\n",
    "print(category_counts)\n",
    "\n",
    "# Visualize the distribution of PM2.5 categories\n",
    "plt.figure(figsize=(8, 5))\n",
    "sns.countplot(x='PM2.5_category', data=data_cleaned, palette='Set2')\n",
    "plt.title('Distribution of PM2.5 Levels by Category', fontsize=14)\n",
    "plt.xlabel('PM2.5 Category', fontsize=12)\n",
    "plt.ylabel('Count', fontsize=12)\n",
    "plt.show()\n"
   ]
  },
  {
   "cell_type": "markdown",
   "id": "9673ea48",
   "metadata": {},
   "source": [
    "## Step 6: Conclusion\n",
    "- PM2.5 levels show significant seasonal variation, with higher levels during colder months.\n",
    "- A negative correlation between temperature and PM2.5 suggests that colder weather conditions lead to higher pollution levels.\n",
    "- Binning analysis indicates that the majority of days fall into the 'Moderate' and 'High' categories for PM2.5 levels."
   ]
  }
 ],
 "metadata": {},
 "nbformat": 4,
 "nbformat_minor": 5
}
